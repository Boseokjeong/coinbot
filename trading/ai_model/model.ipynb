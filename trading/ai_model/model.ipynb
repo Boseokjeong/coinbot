{
 "cells": [
  {
   "cell_type": "code",
   "execution_count": 3,
   "metadata": {},
   "outputs": [],
   "source": [
    "import numpy as np\n",
    "from sklearn.preprocessing import MinMaxScaler\n",
    "from tensorflow.keras.models import load_model\n",
    "\n",
    "\n",
    "def create_sequences(data, seq_length):\n",
    "    X, y = [], []\n",
    "    for i in range(len(data) - seq_length):\n",
    "        seq = data[i:i+seq_length]\n",
    "        label = data[i+seq_length]\n",
    "        X.append(seq)\n",
    "        y.append(label)\n",
    "    return np.array(X), np.array(y)\n",
    "\n",
    "\n",
    "def load_and_predict(new_data, model_path='./lstm_model.h5', sequence_length=1000):\n",
    "    # Load the saved LSTM model\n",
    "    model = load_model(model_path)\n",
    "\n",
    "    # Assuming you have a column 'price' containing the new data\n",
    "    new_prices = new_data['price'].values.reshape(-1, 1)\n",
    "\n",
    "    # Normalize the new data using the same scaler\n",
    "    scaler = MinMaxScaler(feature_range=(0, 1))\n",
    "    new_prices_scaled = scaler.fit_transform(new_prices)\n",
    "\n",
    "    # Create sequences for input\n",
    "    X_new, y_new = create_sequences(new_prices_scaled, sequence_length)\n",
    "\n",
    "    # Reshape the input data for LSTM\n",
    "    X_new = X_new.reshape((X_new.shape[0], X_new.shape[1], 1))\n",
    "\n",
    "    # Make predictions\n",
    "    predicted_prices_scaled = model.predict(X_new)\n",
    "\n",
    "    # Inverse transform the predicted values to get the original scale\n",
    "    predicted_prices = scaler.inverse_transform(predicted_prices_scaled)\n",
    "\n",
    "    return predicted_prices"
   ]
  },
  {
   "cell_type": "code",
   "execution_count": 4,
   "metadata": {},
   "outputs": [
    {
     "ename": "NameError",
     "evalue": "name 'new_df' is not defined",
     "output_type": "error",
     "traceback": [
      "\u001B[1;31m---------------------------------------------------------------------------\u001B[0m",
      "\u001B[1;31mNameError\u001B[0m                                 Traceback (most recent call last)",
      "\u001B[1;32mc:\\Users\\wjdqh\\python\\project\\stackmarket\\model.ipynb Cell 2\u001B[0m line \u001B[0;36m1\n\u001B[1;32m----> <a href='vscode-notebook-cell:/c%3A/Users/wjdqh/python/project/stackmarket/model.ipynb#W2sZmlsZQ%3D%3D?line=0'>1</a>\u001B[0m load_and_predict(new_df)\n\u001B[0;32m      <a href='vscode-notebook-cell:/c%3A/Users/wjdqh/python/project/stackmarket/model.ipynb#W2sZmlsZQ%3D%3D?line=2'>3</a>\u001B[0m \u001B[39m#여기 new_df에다가 1000개짜리 데이터프레임을 넣으시면 모델이 돌아가서 다음 가격을 줄겁니다.\u001B[39;00m\n",
      "\u001B[1;31mNameError\u001B[0m: name 'new_df' is not defined"
     ]
    }
   ],
   "source": [
    "load_and_predict(new_df)\n",
    "\n",
    "#여기 new_df에다가 1000개짜리 데이터프레임을 넣으시면 모델이 돌아가서 다음 가격을 줄겁니다."
   ]
  }
 ],
 "metadata": {
  "kernelspec": {
   "display_name": "Python 3",
   "language": "python",
   "name": "python3"
  },
  "language_info": {
   "codemirror_mode": {
    "name": "ipython",
    "version": 3
   },
   "file_extension": ".py",
   "mimetype": "text/x-python",
   "name": "python",
   "nbconvert_exporter": "python",
   "pygments_lexer": "ipython3",
   "version": "3.11.7"
  }
 },
 "nbformat": 4,
 "nbformat_minor": 2
}
